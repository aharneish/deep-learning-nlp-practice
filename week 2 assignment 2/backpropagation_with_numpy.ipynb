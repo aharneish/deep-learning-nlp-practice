{
 "cells": [
  {
   "cell_type": "code",
   "execution_count": 36,
   "metadata": {},
   "outputs": [],
   "source": [
    "import numpy as np"
   ]
  },
  {
   "cell_type": "code",
   "execution_count": 37,
   "metadata": {},
   "outputs": [],
   "source": [
    "def sigmoid(x):\n",
    "    return 1 / (1 + np.exp(-x))"
   ]
  },
  {
   "cell_type": "code",
   "execution_count": 38,
   "metadata": {},
   "outputs": [],
   "source": [
    "def sigmoid_derivative(x):\n",
    "    return sigmoid(x) * (1 - sigmoid(x))"
   ]
  },
  {
   "cell_type": "code",
   "execution_count": 39,
   "metadata": {},
   "outputs": [],
   "source": [
    "def initialize_parameters(input_size, hidden_size, output_size):\n",
    "    np.random.seed(0)\n",
    "    W1 = np.random.randn(hidden_size, input_size) * 0.01\n",
    "    b1 = np.zeros((hidden_size, 1))\n",
    "    W2 = np.random.randn(output_size, hidden_size) * 0.01\n",
    "    b2 = np.zeros((output_size, 1))\n",
    "    return {\"W1\": W1, \"b1\": b1, \"W2\": W2, \"b2\": b2}"
   ]
  },
  {
   "cell_type": "code",
   "execution_count": 40,
   "metadata": {},
   "outputs": [],
   "source": [
    "def forward_propagation(X, parameters):\n",
    "    Z1 = np.dot(parameters[\"W1\"], X) + parameters[\"b1\"]\n",
    "    A1 = sigmoid(Z1)\n",
    "    Z2 = np.dot(parameters[\"W2\"], A1) + parameters[\"b2\"]\n",
    "    A2 = sigmoid(Z2)\n",
    "    cache = {\"Z1\": Z1, \"A1\": A1, \"Z2\": Z2, \"A2\": A2}\n",
    "    return A2, cache"
   ]
  },
  {
   "cell_type": "code",
   "execution_count": 41,
   "metadata": {},
   "outputs": [],
   "source": [
    "def compute_cost(A2, Y):\n",
    "    m = Y.shape[1]\n",
    "    cost = -np.sum(Y * np.log(A2) + (1 - Y) * np.log(1 - A2)) / m\n",
    "    return np.squeeze(cost)"
   ]
  },
  {
   "cell_type": "code",
   "execution_count": 42,
   "metadata": {},
   "outputs": [],
   "source": [
    "def backward_propagation(X, Y, parameters, cache):\n",
    "    m = X.shape[1]\n",
    "    dZ2 = cache[\"A2\"] - Y\n",
    "    dW2 = np.dot(dZ2, cache[\"A1\"].T) / m\n",
    "    db2 = np.sum(dZ2, axis=1, keepdims=True) / m\n",
    "    dZ1 = np.dot(parameters[\"W2\"].T, dZ2) * sigmoid_derivative(cache[\"Z1\"])\n",
    "    dW1 = np.dot(dZ1, X.T) / m\n",
    "    db1 = np.sum(dZ1, axis=1, keepdims=True) / m\n",
    "    gradients = {\"dW1\": dW1, \"db1\": db1, \"dW2\": dW2, \"db2\": db2}\n",
    "    return gradients"
   ]
  },
  {
   "cell_type": "code",
   "execution_count": 43,
   "metadata": {},
   "outputs": [],
   "source": [
    "def update_parameters(parameters, gradients, learning_rate):\n",
    "    parameters[\"W1\"] -= learning_rate * gradients[\"dW1\"]\n",
    "    parameters[\"b1\"] -= learning_rate * gradients[\"db1\"]\n",
    "    parameters[\"W2\"] -= learning_rate * gradients[\"dW2\"]\n",
    "    parameters[\"b2\"] -= learning_rate * gradients[\"db2\"]\n",
    "    return parameters"
   ]
  },
  {
   "cell_type": "code",
   "execution_count": 44,
   "metadata": {},
   "outputs": [],
   "source": [
    "def train_model(X, Y, hidden_size, num_iterations, learning_rate):\n",
    "    input_size = X.shape[0]\n",
    "    output_size = Y.shape[0]\n",
    "    parameters = initialize_parameters(input_size, hidden_size, output_size)\n",
    "\n",
    "    for i in range(num_iterations):\n",
    "        A2, cache = forward_propagation(X, parameters)\n",
    "        cost = compute_cost(A2, Y)\n",
    "        gradients = backward_propagation(X, Y, parameters, cache)\n",
    "        parameters = update_parameters(parameters, gradients, learning_rate)\n",
    "\n",
    "        if i % 1000 == 0:\n",
    "            print(f\"Cost after iteration {i}: {cost}\")\n",
    "\n",
    "    return parameters"
   ]
  },
  {
   "cell_type": "code",
   "execution_count": 45,
   "metadata": {},
   "outputs": [
    {
     "name": "stdout",
     "output_type": "stream",
     "text": [
      "Cost after iteration 0: 0.6931586006344547\n",
      "Cost after iteration 1000: 0.6931471809953038\n",
      "Cost after iteration 2000: 0.6931471805117335\n",
      "Cost after iteration 3000: 0.6931471805116804\n",
      "Cost after iteration 4000: 0.6931471805116478\n"
     ]
    },
    {
     "name": "stdout",
     "output_type": "stream",
     "text": [
      "Cost after iteration 5000: 0.6931471805116151\n",
      "Cost after iteration 6000: 0.6931471805115825\n",
      "Cost after iteration 7000: 0.6931471805115498\n",
      "Cost after iteration 8000: 0.6931471805115171\n",
      "Cost after iteration 9000: 0.6931471805114846\n",
      "Trained parameters:\n",
      "{'W1': array([[ 0.01764151,  0.00400172],\n",
      "       [ 0.0097869 ,  0.02240792],\n",
      "       [ 0.01867564, -0.00977291],\n",
      "       [ 0.00949242, -0.00152101]]), 'b1': array([[ 2.27507695e-06],\n",
      "       [-2.85942076e-06],\n",
      "       [-4.26861137e-08],\n",
      "       [-1.61627709e-05]]), 'W2': array([[-0.0034238 ,  0.00171248, -0.000946  ,  0.01215819]]), 'b2': array([[-0.00475903]])}\n"
     ]
    }
   ],
   "source": [
    "# Example usage\n",
    "X = np.array([[0, 0, 1, 1], [0, 1, 0, 1]])\n",
    "Y = np.array([[0, 1, 1, 0]])\n",
    "hidden_size = 4\n",
    "num_iterations = 10000\n",
    "learning_rate = 0.01\n",
    "\n",
    "parameters = train_model(X, Y, hidden_size, num_iterations, learning_rate)\n",
    "print(\"Trained parameters:\")\n",
    "print(parameters)"
   ]
  }
 ],
 "metadata": {
  "kernelspec": {
   "display_name": "Python 3",
   "language": "python",
   "name": "python3"
  },
  "language_info": {
   "codemirror_mode": {
    "name": "ipython",
    "version": 3
   },
   "file_extension": ".py",
   "mimetype": "text/x-python",
   "name": "python",
   "nbconvert_exporter": "python",
   "pygments_lexer": "ipython3",
   "version": "3.11.3"
  },
  "orig_nbformat": 4
 },
 "nbformat": 4,
 "nbformat_minor": 2
}
