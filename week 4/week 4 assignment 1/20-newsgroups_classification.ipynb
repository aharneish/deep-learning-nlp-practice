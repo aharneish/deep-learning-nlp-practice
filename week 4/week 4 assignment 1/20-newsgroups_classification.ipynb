{
  "cells": [
    {
      "cell_type": "markdown",
      "metadata": {
        "id": "FxxED6-47dGK"
      },
      "source": [
        "# 20-newsgroups Text Classification using Word2Vec/GloVe and also applying machine learning models (classification models)"
      ]
    },
    {
      "cell_type": "markdown",
      "metadata": {
        "id": "-IvyzdfL7dGV"
      },
      "source": [
        "importing the necessary packages"
      ]
    },
    {
      "cell_type": "code",
      "execution_count": 28,
      "metadata": {
        "id": "V28Oz8Rs7dGX"
      },
      "outputs": [],
      "source": [
        "import numpy as np\n",
        "from sklearn.datasets import fetch_20newsgroups\n",
        "from sklearn.model_selection import train_test_split,GridSearchCV\n",
        "from sklearn.linear_model import LogisticRegression\n",
        "from sklearn.svm import SVC\n",
        "from sklearn.ensemble import RandomForestClassifier\n",
        "from sklearn.metrics import classification_report\n",
        "from gensim.models import Word2Vec\n",
        "import nltk\n",
        "from gensim.models.doc2vec import TaggedDocument\n",
        "from nltk.tokenize import word_tokenize"
      ]
    },
    {
      "cell_type": "code",
      "execution_count": 29,
      "metadata": {
        "colab": {
          "base_uri": "https://localhost:8080/"
        },
        "id": "vxt6f1dA7dGb",
        "outputId": "8f76d693-6aee-4af2-832d-d18f536dcc21"
      },
      "outputs": [
        {
          "output_type": "stream",
          "name": "stderr",
          "text": [
            "[nltk_data] Downloading package punkt to /root/nltk_data...\n",
            "[nltk_data]   Package punkt is already up-to-date!\n"
          ]
        },
        {
          "output_type": "execute_result",
          "data": {
            "text/plain": [
              "True"
            ]
          },
          "metadata": {},
          "execution_count": 29
        }
      ],
      "source": [
        "nltk.download('punkt')"
      ]
    },
    {
      "cell_type": "code",
      "execution_count": 30,
      "metadata": {
        "id": "eowKqO1m7dGd"
      },
      "outputs": [],
      "source": [
        "#taking a few topics from the dataset.\n",
        "categories=['comp.graphics','comp.sys.ibm.pc.hardware','comp.sys.mac.hardware','rec.autos','rec.motorcycles','sci.space','talk.religion.misc']\n",
        "#loading the categories from the dataset\n",
        "newsgroups_data=fetch_20newsgroups(categories=categories)"
      ]
    },
    {
      "cell_type": "markdown",
      "metadata": {
        "id": "n5BZaVYJ7dGe"
      },
      "source": [
        "preprocessing the dataset"
      ]
    },
    {
      "cell_type": "code",
      "execution_count": 31,
      "metadata": {
        "id": "7hbtzW-27dGf"
      },
      "outputs": [],
      "source": [
        "docs=newsgroups_data.data\n",
        "labels=newsgroups_data.target\n",
        "target_names=newsgroups_data.target_names"
      ]
    },
    {
      "cell_type": "code",
      "execution_count": 32,
      "metadata": {
        "id": "-xs_Cx3I7dGg"
      },
      "outputs": [],
      "source": [
        "X_train,X_test,y_train,y_test=train_test_split(docs,labels,test_size=0.35,random_state=42)"
      ]
    },
    {
      "cell_type": "markdown",
      "metadata": {
        "id": "n849xMjv7dGh"
      },
      "source": [
        "Training Word2Vec embeddings"
      ]
    },
    {
      "cell_type": "code",
      "execution_count": 33,
      "metadata": {
        "id": "VoCtQvP87dGi"
      },
      "outputs": [],
      "source": [
        "X_train_tokenized=[word_tokenize(doc.lower()) for doc in X_train]\n",
        "w2v_model=Word2Vec(sentences=X_train_tokenized,window=10,min_count=1)"
      ]
    },
    {
      "cell_type": "code",
      "source": [
        "X_test_tokenized=[word_tokenize(doc.lower()) for doc in X_test]"
      ],
      "metadata": {
        "id": "6JxMcQEq75Q3"
      },
      "execution_count": 34,
      "outputs": []
    },
    {
      "cell_type": "code",
      "source": [
        "train_vecs=[np.mean([w2v_model.wv[word] for word in doc],axis=0)for doc in X_train_tokenized]\n",
        "test_vecs=[np.mean([w2v_model.wv[word] for word in doc if word in w2v_model.wv],axis=0) for doc in X_test_tokenized]"
      ],
      "metadata": {
        "id": "dImXfxzJ8C_G"
      },
      "execution_count": 35,
      "outputs": []
    },
    {
      "cell_type": "code",
      "execution_count": 36,
      "metadata": {
        "id": "I0-xrHnH7dGk"
      },
      "outputs": [],
      "source": [
        "def perform_grid_search(classifier, param_grid, X_train, y_train, X_test):\n",
        "    \"\"\"summary for perform_grid_search\n",
        "\n",
        "    Args:\n",
        "        classifier: the classifiers being passed\n",
        "        param_grid:\n",
        "        X_train: contains the training datat\n",
        "        y_train: contains the training target values\n",
        "        X_test:contains the test data\n",
        "\n",
        "    Returns:\n",
        "        [type]: [description]\n",
        "    \"\"\"\n",
        "    grid_search=GridSearchCV(classifier, param_grid)\n",
        "    grid_search.fit(X_train, y_train)\n",
        "    best_model=grid_search.best_estimator_\n",
        "    y_pred=best_model.predict(X_test)\n",
        "    return y_pred, grid_search.best_params_"
      ]
    },
    {
      "cell_type": "code",
      "execution_count": 37,
      "metadata": {
        "id": "JdSIuYT97dGm"
      },
      "outputs": [],
      "source": [
        "# Define the hyperparameter grids for each classifier\n",
        "logreg_param_grid={'C':[0.1,1,5,10]}\n",
        "svm_param_grid={'C':[0.1,1,5,10], 'kernel': ['linear', 'rbf','poly']}\n",
        "rf_param_grid={'n_estimators':[100,200,300,400]}"
      ]
    },
    {
      "cell_type": "code",
      "execution_count": 38,
      "metadata": {
        "colab": {
          "base_uri": "https://localhost:8080/"
        },
        "id": "rQRues3b7dGm",
        "outputId": "c4d60ef7-0040-4558-8bcf-3c0189bc1e4a"
      },
      "outputs": [
        {
          "output_type": "stream",
          "name": "stderr",
          "text": [
            "/usr/local/lib/python3.10/dist-packages/sklearn/linear_model/_logistic.py:458: ConvergenceWarning: lbfgs failed to converge (status=1):\n",
            "STOP: TOTAL NO. of ITERATIONS REACHED LIMIT.\n",
            "\n",
            "Increase the number of iterations (max_iter) or scale the data as shown in:\n",
            "    https://scikit-learn.org/stable/modules/preprocessing.html\n",
            "Please also refer to the documentation for alternative solver options:\n",
            "    https://scikit-learn.org/stable/modules/linear_model.html#logistic-regression\n",
            "  n_iter_i = _check_optimize_result(\n",
            "/usr/local/lib/python3.10/dist-packages/sklearn/linear_model/_logistic.py:458: ConvergenceWarning: lbfgs failed to converge (status=1):\n",
            "STOP: TOTAL NO. of ITERATIONS REACHED LIMIT.\n",
            "\n",
            "Increase the number of iterations (max_iter) or scale the data as shown in:\n",
            "    https://scikit-learn.org/stable/modules/preprocessing.html\n",
            "Please also refer to the documentation for alternative solver options:\n",
            "    https://scikit-learn.org/stable/modules/linear_model.html#logistic-regression\n",
            "  n_iter_i = _check_optimize_result(\n",
            "/usr/local/lib/python3.10/dist-packages/sklearn/linear_model/_logistic.py:458: ConvergenceWarning: lbfgs failed to converge (status=1):\n",
            "STOP: TOTAL NO. of ITERATIONS REACHED LIMIT.\n",
            "\n",
            "Increase the number of iterations (max_iter) or scale the data as shown in:\n",
            "    https://scikit-learn.org/stable/modules/preprocessing.html\n",
            "Please also refer to the documentation for alternative solver options:\n",
            "    https://scikit-learn.org/stable/modules/linear_model.html#logistic-regression\n",
            "  n_iter_i = _check_optimize_result(\n",
            "/usr/local/lib/python3.10/dist-packages/sklearn/linear_model/_logistic.py:458: ConvergenceWarning: lbfgs failed to converge (status=1):\n",
            "STOP: TOTAL NO. of ITERATIONS REACHED LIMIT.\n",
            "\n",
            "Increase the number of iterations (max_iter) or scale the data as shown in:\n",
            "    https://scikit-learn.org/stable/modules/preprocessing.html\n",
            "Please also refer to the documentation for alternative solver options:\n",
            "    https://scikit-learn.org/stable/modules/linear_model.html#logistic-regression\n",
            "  n_iter_i = _check_optimize_result(\n",
            "/usr/local/lib/python3.10/dist-packages/sklearn/linear_model/_logistic.py:458: ConvergenceWarning: lbfgs failed to converge (status=1):\n",
            "STOP: TOTAL NO. of ITERATIONS REACHED LIMIT.\n",
            "\n",
            "Increase the number of iterations (max_iter) or scale the data as shown in:\n",
            "    https://scikit-learn.org/stable/modules/preprocessing.html\n",
            "Please also refer to the documentation for alternative solver options:\n",
            "    https://scikit-learn.org/stable/modules/linear_model.html#logistic-regression\n",
            "  n_iter_i = _check_optimize_result(\n",
            "/usr/local/lib/python3.10/dist-packages/sklearn/linear_model/_logistic.py:458: ConvergenceWarning: lbfgs failed to converge (status=1):\n",
            "STOP: TOTAL NO. of ITERATIONS REACHED LIMIT.\n",
            "\n",
            "Increase the number of iterations (max_iter) or scale the data as shown in:\n",
            "    https://scikit-learn.org/stable/modules/preprocessing.html\n",
            "Please also refer to the documentation for alternative solver options:\n",
            "    https://scikit-learn.org/stable/modules/linear_model.html#logistic-regression\n",
            "  n_iter_i = _check_optimize_result(\n",
            "/usr/local/lib/python3.10/dist-packages/sklearn/linear_model/_logistic.py:458: ConvergenceWarning: lbfgs failed to converge (status=1):\n",
            "STOP: TOTAL NO. of ITERATIONS REACHED LIMIT.\n",
            "\n",
            "Increase the number of iterations (max_iter) or scale the data as shown in:\n",
            "    https://scikit-learn.org/stable/modules/preprocessing.html\n",
            "Please also refer to the documentation for alternative solver options:\n",
            "    https://scikit-learn.org/stable/modules/linear_model.html#logistic-regression\n",
            "  n_iter_i = _check_optimize_result(\n",
            "/usr/local/lib/python3.10/dist-packages/sklearn/linear_model/_logistic.py:458: ConvergenceWarning: lbfgs failed to converge (status=1):\n",
            "STOP: TOTAL NO. of ITERATIONS REACHED LIMIT.\n",
            "\n",
            "Increase the number of iterations (max_iter) or scale the data as shown in:\n",
            "    https://scikit-learn.org/stable/modules/preprocessing.html\n",
            "Please also refer to the documentation for alternative solver options:\n",
            "    https://scikit-learn.org/stable/modules/linear_model.html#logistic-regression\n",
            "  n_iter_i = _check_optimize_result(\n",
            "/usr/local/lib/python3.10/dist-packages/sklearn/linear_model/_logistic.py:458: ConvergenceWarning: lbfgs failed to converge (status=1):\n",
            "STOP: TOTAL NO. of ITERATIONS REACHED LIMIT.\n",
            "\n",
            "Increase the number of iterations (max_iter) or scale the data as shown in:\n",
            "    https://scikit-learn.org/stable/modules/preprocessing.html\n",
            "Please also refer to the documentation for alternative solver options:\n",
            "    https://scikit-learn.org/stable/modules/linear_model.html#logistic-regression\n",
            "  n_iter_i = _check_optimize_result(\n",
            "/usr/local/lib/python3.10/dist-packages/sklearn/linear_model/_logistic.py:458: ConvergenceWarning: lbfgs failed to converge (status=1):\n",
            "STOP: TOTAL NO. of ITERATIONS REACHED LIMIT.\n",
            "\n",
            "Increase the number of iterations (max_iter) or scale the data as shown in:\n",
            "    https://scikit-learn.org/stable/modules/preprocessing.html\n",
            "Please also refer to the documentation for alternative solver options:\n",
            "    https://scikit-learn.org/stable/modules/linear_model.html#logistic-regression\n",
            "  n_iter_i = _check_optimize_result(\n",
            "/usr/local/lib/python3.10/dist-packages/sklearn/linear_model/_logistic.py:458: ConvergenceWarning: lbfgs failed to converge (status=1):\n",
            "STOP: TOTAL NO. of ITERATIONS REACHED LIMIT.\n",
            "\n",
            "Increase the number of iterations (max_iter) or scale the data as shown in:\n",
            "    https://scikit-learn.org/stable/modules/preprocessing.html\n",
            "Please also refer to the documentation for alternative solver options:\n",
            "    https://scikit-learn.org/stable/modules/linear_model.html#logistic-regression\n",
            "  n_iter_i = _check_optimize_result(\n",
            "/usr/local/lib/python3.10/dist-packages/sklearn/linear_model/_logistic.py:458: ConvergenceWarning: lbfgs failed to converge (status=1):\n",
            "STOP: TOTAL NO. of ITERATIONS REACHED LIMIT.\n",
            "\n",
            "Increase the number of iterations (max_iter) or scale the data as shown in:\n",
            "    https://scikit-learn.org/stable/modules/preprocessing.html\n",
            "Please also refer to the documentation for alternative solver options:\n",
            "    https://scikit-learn.org/stable/modules/linear_model.html#logistic-regression\n",
            "  n_iter_i = _check_optimize_result(\n",
            "/usr/local/lib/python3.10/dist-packages/sklearn/linear_model/_logistic.py:458: ConvergenceWarning: lbfgs failed to converge (status=1):\n",
            "STOP: TOTAL NO. of ITERATIONS REACHED LIMIT.\n",
            "\n",
            "Increase the number of iterations (max_iter) or scale the data as shown in:\n",
            "    https://scikit-learn.org/stable/modules/preprocessing.html\n",
            "Please also refer to the documentation for alternative solver options:\n",
            "    https://scikit-learn.org/stable/modules/linear_model.html#logistic-regression\n",
            "  n_iter_i = _check_optimize_result(\n",
            "/usr/local/lib/python3.10/dist-packages/sklearn/linear_model/_logistic.py:458: ConvergenceWarning: lbfgs failed to converge (status=1):\n",
            "STOP: TOTAL NO. of ITERATIONS REACHED LIMIT.\n",
            "\n",
            "Increase the number of iterations (max_iter) or scale the data as shown in:\n",
            "    https://scikit-learn.org/stable/modules/preprocessing.html\n",
            "Please also refer to the documentation for alternative solver options:\n",
            "    https://scikit-learn.org/stable/modules/linear_model.html#logistic-regression\n",
            "  n_iter_i = _check_optimize_result(\n",
            "/usr/local/lib/python3.10/dist-packages/sklearn/linear_model/_logistic.py:458: ConvergenceWarning: lbfgs failed to converge (status=1):\n",
            "STOP: TOTAL NO. of ITERATIONS REACHED LIMIT.\n",
            "\n",
            "Increase the number of iterations (max_iter) or scale the data as shown in:\n",
            "    https://scikit-learn.org/stable/modules/preprocessing.html\n",
            "Please also refer to the documentation for alternative solver options:\n",
            "    https://scikit-learn.org/stable/modules/linear_model.html#logistic-regression\n",
            "  n_iter_i = _check_optimize_result(\n",
            "/usr/local/lib/python3.10/dist-packages/sklearn/linear_model/_logistic.py:458: ConvergenceWarning: lbfgs failed to converge (status=1):\n",
            "STOP: TOTAL NO. of ITERATIONS REACHED LIMIT.\n",
            "\n",
            "Increase the number of iterations (max_iter) or scale the data as shown in:\n",
            "    https://scikit-learn.org/stable/modules/preprocessing.html\n",
            "Please also refer to the documentation for alternative solver options:\n",
            "    https://scikit-learn.org/stable/modules/linear_model.html#logistic-regression\n",
            "  n_iter_i = _check_optimize_result(\n",
            "/usr/local/lib/python3.10/dist-packages/sklearn/linear_model/_logistic.py:458: ConvergenceWarning: lbfgs failed to converge (status=1):\n",
            "STOP: TOTAL NO. of ITERATIONS REACHED LIMIT.\n",
            "\n",
            "Increase the number of iterations (max_iter) or scale the data as shown in:\n",
            "    https://scikit-learn.org/stable/modules/preprocessing.html\n",
            "Please also refer to the documentation for alternative solver options:\n",
            "    https://scikit-learn.org/stable/modules/linear_model.html#logistic-regression\n",
            "  n_iter_i = _check_optimize_result(\n",
            "/usr/local/lib/python3.10/dist-packages/sklearn/linear_model/_logistic.py:458: ConvergenceWarning: lbfgs failed to converge (status=1):\n",
            "STOP: TOTAL NO. of ITERATIONS REACHED LIMIT.\n",
            "\n",
            "Increase the number of iterations (max_iter) or scale the data as shown in:\n",
            "    https://scikit-learn.org/stable/modules/preprocessing.html\n",
            "Please also refer to the documentation for alternative solver options:\n",
            "    https://scikit-learn.org/stable/modules/linear_model.html#logistic-regression\n",
            "  n_iter_i = _check_optimize_result(\n",
            "/usr/local/lib/python3.10/dist-packages/sklearn/linear_model/_logistic.py:458: ConvergenceWarning: lbfgs failed to converge (status=1):\n",
            "STOP: TOTAL NO. of ITERATIONS REACHED LIMIT.\n",
            "\n",
            "Increase the number of iterations (max_iter) or scale the data as shown in:\n",
            "    https://scikit-learn.org/stable/modules/preprocessing.html\n",
            "Please also refer to the documentation for alternative solver options:\n",
            "    https://scikit-learn.org/stable/modules/linear_model.html#logistic-regression\n",
            "  n_iter_i = _check_optimize_result(\n",
            "/usr/local/lib/python3.10/dist-packages/sklearn/linear_model/_logistic.py:458: ConvergenceWarning: lbfgs failed to converge (status=1):\n",
            "STOP: TOTAL NO. of ITERATIONS REACHED LIMIT.\n",
            "\n",
            "Increase the number of iterations (max_iter) or scale the data as shown in:\n",
            "    https://scikit-learn.org/stable/modules/preprocessing.html\n",
            "Please also refer to the documentation for alternative solver options:\n",
            "    https://scikit-learn.org/stable/modules/linear_model.html#logistic-regression\n",
            "  n_iter_i = _check_optimize_result(\n",
            "/usr/local/lib/python3.10/dist-packages/sklearn/linear_model/_logistic.py:458: ConvergenceWarning: lbfgs failed to converge (status=1):\n",
            "STOP: TOTAL NO. of ITERATIONS REACHED LIMIT.\n",
            "\n",
            "Increase the number of iterations (max_iter) or scale the data as shown in:\n",
            "    https://scikit-learn.org/stable/modules/preprocessing.html\n",
            "Please also refer to the documentation for alternative solver options:\n",
            "    https://scikit-learn.org/stable/modules/linear_model.html#logistic-regression\n",
            "  n_iter_i = _check_optimize_result(\n"
          ]
        }
      ],
      "source": [
        "logreg_classifier=LogisticRegression()\n",
        "y_pred_logreg, best_params_logreg=perform_grid_search(logreg_classifier, logreg_param_grid, train_vecs, y_train,test_vecs)"
      ]
    },
    {
      "cell_type": "code",
      "execution_count": 39,
      "metadata": {
        "id": "8dMxtm207dGm"
      },
      "outputs": [],
      "source": [
        "svm_classifier=SVC()\n",
        "y_pred_svm,best_params_svm=perform_grid_search(svm_classifier,svm_param_grid,train_vecs,y_train,test_vecs)"
      ]
    },
    {
      "cell_type": "code",
      "execution_count": 40,
      "metadata": {
        "id": "oDup-cH47dGn"
      },
      "outputs": [],
      "source": [
        "rf_classifier=RandomForestClassifier()\n",
        "y_pred_rf,best_params_rf=perform_grid_search(rf_classifier,rf_param_grid,train_vecs,y_train,test_vecs)"
      ]
    },
    {
      "cell_type": "markdown",
      "metadata": {
        "id": "JjKJXvdr7dGn"
      },
      "source": [
        "evaluating the models"
      ]
    },
    {
      "cell_type": "code",
      "execution_count": 41,
      "metadata": {
        "colab": {
          "base_uri": "https://localhost:8080/"
        },
        "id": "49YVYnKF7dGo",
        "outputId": "6a214e2b-42c2-4958-b61c-d419c812882e"
      },
      "outputs": [
        {
          "output_type": "stream",
          "name": "stdout",
          "text": [
            "Logistic Regression:\n",
            "                          precision    recall  f1-score   support\n",
            "\n",
            "           comp.graphics       0.43      0.47      0.45       187\n",
            "comp.sys.ibm.pc.hardware       0.45      0.48      0.46       201\n",
            "   comp.sys.mac.hardware       0.36      0.33      0.34       202\n",
            "               rec.autos       0.46      0.46      0.46       215\n",
            "         rec.motorcycles       0.56      0.48      0.52       221\n",
            "               sci.space       0.58      0.57      0.57       217\n",
            "      talk.religion.misc       0.56      0.71      0.63       127\n",
            "\n",
            "                accuracy                           0.49      1370\n",
            "               macro avg       0.49      0.50      0.49      1370\n",
            "            weighted avg       0.49      0.49      0.48      1370\n",
            "\n",
            "Best Parameters: {'C': 5}\n"
          ]
        }
      ],
      "source": [
        "print(\"Logistic Regression:\")\n",
        "print(classification_report(y_test, y_pred_logreg, target_names=target_names))\n",
        "print(\"Best Parameters:\", best_params_logreg)"
      ]
    },
    {
      "cell_type": "code",
      "execution_count": 42,
      "metadata": {
        "colab": {
          "base_uri": "https://localhost:8080/"
        },
        "id": "3GwTUFbV7dGo",
        "outputId": "1cb1a36d-f2c2-4aed-a9a9-edf180d61965"
      },
      "outputs": [
        {
          "output_type": "stream",
          "name": "stdout",
          "text": [
            "Support Vector Machine:\n",
            "                          precision    recall  f1-score   support\n",
            "\n",
            "           comp.graphics       0.41      0.56      0.47       187\n",
            "comp.sys.ibm.pc.hardware       0.47      0.52      0.49       201\n",
            "   comp.sys.mac.hardware       0.42      0.37      0.39       202\n",
            "               rec.autos       0.50      0.52      0.51       215\n",
            "         rec.motorcycles       0.60      0.47      0.53       221\n",
            "               sci.space       0.64      0.59      0.61       217\n",
            "      talk.religion.misc       0.66      0.65      0.66       127\n",
            "\n",
            "                accuracy                           0.52      1370\n",
            "               macro avg       0.53      0.52      0.52      1370\n",
            "            weighted avg       0.53      0.52      0.52      1370\n",
            "\n",
            "Best Parameters: {'C': 10, 'kernel': 'linear'}\n"
          ]
        }
      ],
      "source": [
        "print(\"Support Vector Machine:\")\n",
        "print(classification_report(y_test, y_pred_svm, target_names=target_names))\n",
        "print(\"Best Parameters:\", best_params_svm)"
      ]
    },
    {
      "cell_type": "code",
      "execution_count": 45,
      "metadata": {
        "colab": {
          "base_uri": "https://localhost:8080/"
        },
        "id": "m5voGugw7dGp",
        "outputId": "4a63ad4e-0027-4426-bce2-29afc8d40146"
      },
      "outputs": [
        {
          "output_type": "stream",
          "name": "stdout",
          "text": [
            "Random Forest:\n",
            "                          precision    recall  f1-score   support\n",
            "\n",
            "           comp.graphics       0.34      0.41      0.37       187\n",
            "comp.sys.ibm.pc.hardware       0.44      0.49      0.46       201\n",
            "   comp.sys.mac.hardware       0.36      0.38      0.37       202\n",
            "               rec.autos       0.39      0.36      0.37       215\n",
            "         rec.motorcycles       0.49      0.46      0.47       221\n",
            "               sci.space       0.52      0.41      0.46       217\n",
            "      talk.religion.misc       0.55      0.57      0.56       127\n",
            "\n",
            "                accuracy                           0.43      1370\n",
            "               macro avg       0.44      0.44      0.44      1370\n",
            "            weighted avg       0.44      0.43      0.43      1370\n",
            "\n",
            "Best Parameters:  {'n_estimators': 300}\n"
          ]
        }
      ],
      "source": [
        "print(\"Random Forest:\")\n",
        "print(classification_report(y_test, y_pred_rf, target_names=target_names))\n",
        "print(\"Best Parameters: \",best_params_rf)"
      ]
    }
  ],
  "metadata": {
    "kernelspec": {
      "display_name": "Python 3",
      "language": "python",
      "name": "python3"
    },
    "language_info": {
      "codemirror_mode": {
        "name": "ipython",
        "version": 3
      },
      "file_extension": ".py",
      "mimetype": "text/x-python",
      "name": "python",
      "nbconvert_exporter": "python",
      "pygments_lexer": "ipython3",
      "version": "3.11.3"
    },
    "orig_nbformat": 4,
    "colab": {
      "provenance": []
    }
  },
  "nbformat": 4,
  "nbformat_minor": 0
}