{
 "cells": [
  {
   "cell_type": "markdown",
   "metadata": {
    "id": "FxxED6-47dGK"
   },
   "source": [
    "# 20-newsgroups Text Classification using Word2Vec/GloVe and also applying machine learning models (classification models)"
   ]
  },
  {
   "cell_type": "markdown",
   "metadata": {
    "id": "-IvyzdfL7dGV"
   },
   "source": [
    "importing the necessary packages"
   ]
  },
  {
   "cell_type": "code",
   "execution_count": 3,
   "metadata": {
    "id": "V28Oz8Rs7dGX"
   },
   "outputs": [
    {
     "ename": "ModuleNotFoundError",
     "evalue": "No module named 'gensim'",
     "output_type": "error",
     "traceback": [
      "\u001b[1;31m---------------------------------------------------------------------------\u001b[0m",
      "\u001b[1;31mModuleNotFoundError\u001b[0m                       Traceback (most recent call last)",
      "Cell \u001b[1;32mIn[3], line 8\u001b[0m\n\u001b[0;32m      6\u001b[0m \u001b[38;5;28;01mfrom\u001b[39;00m \u001b[38;5;21;01msklearn\u001b[39;00m\u001b[38;5;21;01m.\u001b[39;00m\u001b[38;5;21;01mensemble\u001b[39;00m \u001b[38;5;28;01mimport\u001b[39;00m RandomForestClassifier\n\u001b[0;32m      7\u001b[0m \u001b[38;5;28;01mfrom\u001b[39;00m \u001b[38;5;21;01msklearn\u001b[39;00m\u001b[38;5;21;01m.\u001b[39;00m\u001b[38;5;21;01mmetrics\u001b[39;00m \u001b[38;5;28;01mimport\u001b[39;00m classification_report\n\u001b[1;32m----> 8\u001b[0m \u001b[38;5;28;01mfrom\u001b[39;00m \u001b[38;5;21;01mgensim\u001b[39;00m\u001b[38;5;21;01m.\u001b[39;00m\u001b[38;5;21;01mmodels\u001b[39;00m \u001b[38;5;28;01mimport\u001b[39;00m Word2Vec\n\u001b[0;32m      9\u001b[0m \u001b[38;5;28;01mimport\u001b[39;00m \u001b[38;5;21;01mnltk\u001b[39;00m\n\u001b[0;32m     10\u001b[0m \u001b[38;5;28;01mfrom\u001b[39;00m \u001b[38;5;21;01mgensim\u001b[39;00m\u001b[38;5;21;01m.\u001b[39;00m\u001b[38;5;21;01mmodels\u001b[39;00m\u001b[38;5;21;01m.\u001b[39;00m\u001b[38;5;21;01mdoc2vec\u001b[39;00m \u001b[38;5;28;01mimport\u001b[39;00m TaggedDocument\n",
      "\u001b[1;31mModuleNotFoundError\u001b[0m: No module named 'gensim'"
     ]
    }
   ],
   "source": [
    "import numpy as np\n",
    "from sklearn.datasets import fetch_20newsgroups\n",
    "from sklearn.model_selection import train_test_split,GridSearchCV\n",
    "from sklearn.linear_model import LogisticRegression\n",
    "from sklearn.svm import SVC\n",
    "from sklearn.ensemble import RandomForestClassifier\n",
    "from sklearn.metrics import classification_report\n",
    "from gensim.models import Word2Vec\n",
    "import nltk\n",
    "from gensim.models.doc2vec import TaggedDocument\n",
    "from nltk.tokenize import word_tokenize"
   ]
  },
  {
   "cell_type": "code",
   "execution_count": null,
   "metadata": {
    "colab": {
     "base_uri": "https://localhost:8080/"
    },
    "id": "vxt6f1dA7dGb",
    "outputId": "914eb1b8-715a-4879-913e-62b0bb7eac68"
   },
   "outputs": [],
   "source": [
    "nltk.download('punkt')"
   ]
  },
  {
   "cell_type": "code",
   "execution_count": null,
   "metadata": {
    "id": "eowKqO1m7dGd"
   },
   "outputs": [],
   "source": [
    "#taking a few topics from the dataset.\n",
    "categories=['comp.graphics','comp.sys.ibm.pc.hardware','comp.sys.mac.hardware','rec.autos','rec.motorcycles','sci.space','talk.religion.misc']\n",
    "#loading the categories from the dataset\n",
    "newsgroups_data=fetch_20newsgroups(categories=categories)"
   ]
  },
  {
   "cell_type": "markdown",
   "metadata": {
    "id": "n5BZaVYJ7dGe"
   },
   "source": [
    "preprocessing the dataset"
   ]
  },
  {
   "cell_type": "code",
   "execution_count": null,
   "metadata": {
    "id": "7hbtzW-27dGf"
   },
   "outputs": [],
   "source": [
    "docs=newsgroups_data.data\n",
    "labels=newsgroups_data.target\n",
    "target_names=newsgroups_data.target_names"
   ]
  },
  {
   "cell_type": "code",
   "execution_count": null,
   "metadata": {
    "id": "-xs_Cx3I7dGg"
   },
   "outputs": [],
   "source": [
    "X_train,X_test,y_train,y_test=train_test_split(docs,labels,test_size=0.4,random_state=42)"
   ]
  },
  {
   "cell_type": "markdown",
   "metadata": {
    "id": "n849xMjv7dGh"
   },
   "source": [
    "Training Word2Vec embeddings"
   ]
  },
  {
   "cell_type": "code",
   "execution_count": null,
   "metadata": {
    "id": "VoCtQvP87dGi"
   },
   "outputs": [],
   "source": [
    "X_train_tokenized=[word_tokenize(doc.lower()) for doc in X_train]\n",
    "w2v_model=Word2Vec(sentences=X_train_tokenized,window=10,min_count=1)"
   ]
  },
  {
   "cell_type": "code",
   "execution_count": null,
   "metadata": {
    "id": "6JxMcQEq75Q3"
   },
   "outputs": [],
   "source": [
    "X_test_tokenized=[word_tokenize(doc.lower()) for doc in X_test]"
   ]
  },
  {
   "cell_type": "code",
   "execution_count": null,
   "metadata": {
    "id": "dImXfxzJ8C_G"
   },
   "outputs": [],
   "source": [
    "train_vecs=[np.mean([w2v_model.wv[word] for word in doc],axis=0)for doc in X_train_tokenized]\n",
    "test_vecs=[np.mean([w2v_model.wv[word] for word in doc if word in w2v_model.wv],axis=0) for doc in X_test_tokenized]"
   ]
  },
  {
   "cell_type": "code",
   "execution_count": null,
   "metadata": {
    "id": "I0-xrHnH7dGk"
   },
   "outputs": [],
   "source": [
    "def perform_grid_search(classifier, param_grid, X_train, y_train, X_test):\n",
    "    \"\"\"summary for perform_grid_search\n",
    "\n",
    "    Args:\n",
    "        classifier: the classifiers being passed\n",
    "        param_grid:\n",
    "        X_train: contains the training datat\n",
    "        y_train: contains the training target values\n",
    "        X_test:contains the test data\n",
    "\n",
    "    Returns:\n",
    "        [type]: [description]\n",
    "    \"\"\"\n",
    "    grid_search=GridSearchCV(classifier, param_grid)\n",
    "    grid_search.fit(X_train, y_train)\n",
    "    best_model=grid_search.best_estimator_\n",
    "    y_pred=best_model.predict(X_test)\n",
    "    return y_pred, grid_search.best_params_"
   ]
  },
  {
   "cell_type": "code",
   "execution_count": null,
   "metadata": {
    "id": "JdSIuYT97dGm"
   },
   "outputs": [],
   "source": [
    "# Define the hyperparameter grids for each classifier\n",
    "logreg_param_grid={'C':[0.1,1,5,10]}\n",
    "svm_param_grid={'C':[0.1,1,5,10], 'kernel': ['linear', 'rbf','poly']}\n",
    "rf_param_grid={'n_estimators':[100,200,300,400]}"
   ]
  },
  {
   "cell_type": "code",
   "execution_count": null,
   "metadata": {
    "colab": {
     "base_uri": "https://localhost:8080/"
    },
    "id": "rQRues3b7dGm",
    "outputId": "840a30e2-8437-4009-b7d0-7993c75eb2cc"
   },
   "outputs": [],
   "source": [
    "logreg_classifier=LogisticRegression()\n",
    "y_pred_logreg, best_params_logreg=perform_grid_search(logreg_classifier, logreg_param_grid, train_vecs, y_train,test_vecs)"
   ]
  },
  {
   "cell_type": "code",
   "execution_count": null,
   "metadata": {
    "id": "8dMxtm207dGm"
   },
   "outputs": [],
   "source": [
    "svm_classifier=SVC()\n",
    "y_pred_svm,best_params_svm=perform_grid_search(svm_classifier,svm_param_grid,train_vecs,y_train,test_vecs)"
   ]
  },
  {
   "cell_type": "code",
   "execution_count": null,
   "metadata": {
    "id": "oDup-cH47dGn"
   },
   "outputs": [],
   "source": [
    "rf_classifier=RandomForestClassifier()\n",
    "y_pred_rf,best_params_rf=perform_grid_search(rf_classifier,rf_param_grid,train_vecs,y_train,test_vecs)"
   ]
  },
  {
   "cell_type": "markdown",
   "metadata": {
    "id": "JjKJXvdr7dGn"
   },
   "source": [
    "evaluating the models"
   ]
  },
  {
   "cell_type": "code",
   "execution_count": null,
   "metadata": {
    "colab": {
     "base_uri": "https://localhost:8080/"
    },
    "id": "49YVYnKF7dGo",
    "outputId": "009bc78a-96ef-4b84-f9df-51fcc4c5b466"
   },
   "outputs": [],
   "source": [
    "print(\"Logistic Regression:\")\n",
    "print(classification_report(y_test, y_pred_logreg, target_names=target_names))\n",
    "print(\"Best Parameters:\", best_params_logreg)"
   ]
  },
  {
   "cell_type": "code",
   "execution_count": null,
   "metadata": {
    "colab": {
     "base_uri": "https://localhost:8080/"
    },
    "id": "3GwTUFbV7dGo",
    "outputId": "afe8a823-0c0a-455f-88ba-3893542ac38a"
   },
   "outputs": [],
   "source": [
    "print(\"Support Vector Machine:\")\n",
    "print(classification_report(y_test, y_pred_svm, target_names=target_names))\n",
    "print(\"Best Parameters:\", best_params_svm)"
   ]
  },
  {
   "cell_type": "code",
   "execution_count": null,
   "metadata": {
    "colab": {
     "base_uri": "https://localhost:8080/"
    },
    "id": "m5voGugw7dGp",
    "outputId": "3ccc049a-6337-48d5-8525-d2e1eb87ec80"
   },
   "outputs": [],
   "source": [
    "print(\"Random Forest:\")\n",
    "print(classification_report(y_test, y_pred_rf, target_names=target_names))"
   ]
  }
 ],
 "metadata": {
  "colab": {
   "provenance": []
  },
  "kernelspec": {
   "display_name": "Python 3 (ipykernel)",
   "language": "python",
   "name": "python3"
  },
  "language_info": {
   "codemirror_mode": {
    "name": "ipython",
    "version": 3
   },
   "file_extension": ".py",
   "mimetype": "text/x-python",
   "name": "python",
   "nbconvert_exporter": "python",
   "pygments_lexer": "ipython3",
   "version": "3.10.11"
  }
 },
 "nbformat": 4,
 "nbformat_minor": 1
}
